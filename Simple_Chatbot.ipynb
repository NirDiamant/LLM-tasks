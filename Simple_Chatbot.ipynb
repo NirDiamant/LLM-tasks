{
 "cells": [
  {
   "cell_type": "markdown",
   "metadata": {},
   "source": [
    "## install relevant packages"
   ]
  },
  {
   "cell_type": "code",
   "execution_count": null,
   "metadata": {},
   "outputs": [],
   "source": [
    "pip install transformers torch"
   ]
  },
  {
   "cell_type": "markdown",
   "metadata": {},
   "source": [
    "## Import libraries"
   ]
  },
  {
   "cell_type": "code",
   "execution_count": 20,
   "metadata": {},
   "outputs": [],
   "source": [
    "import torch\n",
    "from transformers import AutoModelForCausalLM, AutoTokenizer"
   ]
  },
  {
   "cell_type": "markdown",
   "metadata": {},
   "source": [
    "## Define Chatbot class functions"
   ]
  },
  {
   "cell_type": "code",
   "execution_count": 14,
   "metadata": {},
   "outputs": [],
   "source": [
    "class Chatbot:\n",
    "    def __init__(self):\n",
    "        self.tokenizer = AutoTokenizer.from_pretrained(\"microsoft/DialoGPT-medium\")\n",
    "        self.model = AutoModelForCausalLM.from_pretrained(\"microsoft/DialoGPT-medium\")\n",
    "        self.chat_history_ids = None\n",
    "\n",
    "    def reset_context(self):\n",
    "        self.chat_history_ids = None\n",
    "\n",
    "    # Modify the get_response method to include do_sample=True in the model.generate call\n",
    "\n",
    "    def get_response(self, message):\n",
    "        # Encode the new user message\n",
    "        new_user_input_ids = self.tokenizer.encode(message + self.tokenizer.eos_token, return_tensors='pt')\n",
    "\n",
    "        # Append the new user input tokens to chat history, if it exists\n",
    "        bot_input_ids = torch.cat([self.chat_history_ids, new_user_input_ids], dim=-1) if self.chat_history_ids is not None else new_user_input_ids\n",
    "\n",
    "        # Generate a response with do_sample=True to enable sample-based generation\n",
    "        self.chat_history_ids = self.model.generate(\n",
    "            bot_input_ids,\n",
    "            max_length=1000,\n",
    "            pad_token_id=self.tokenizer.eos_token_id,\n",
    "            temperature=0.7,\n",
    "            do_sample=True\n",
    "        )\n",
    "\n",
    "        # Extract the response\n",
    "        response = self.tokenizer.decode(self.chat_history_ids[:, bot_input_ids.shape[-1]:][0], skip_special_tokens=True)\n",
    "\n",
    "        return response\n",
    "\n",
    "chatbot = Chatbot()\n",
    "\n"
   ]
  },
  {
   "cell_type": "markdown",
   "metadata": {},
   "source": [
    "## Test the chatbot"
   ]
  },
  {
   "cell_type": "code",
   "execution_count": null,
   "metadata": {},
   "outputs": [],
   "source": [
    "# Example conversation\n",
    "print(\"Bot: Hi! How can I help you today?\")\n",
    "while True:\n",
    "    message = input(\"You: \")\n",
    "    if message.lower() == \"quit\":\n",
    "        break\n",
    "    response = chatbot.get_response(message)\n",
    "    print(f'You: {message}')\n",
    "    print(f\"Bot: {response}\")"
   ]
  }
 ],
 "metadata": {
  "kernelspec": {
   "display_name": "openai-env",
   "language": "python",
   "name": "python3"
  },
  "language_info": {
   "codemirror_mode": {
    "name": "ipython",
    "version": 3
   },
   "file_extension": ".py",
   "mimetype": "text/x-python",
   "name": "python",
   "nbconvert_exporter": "python",
   "pygments_lexer": "ipython3",
   "version": "3.12.0"
  }
 },
 "nbformat": 4,
 "nbformat_minor": 2
}
