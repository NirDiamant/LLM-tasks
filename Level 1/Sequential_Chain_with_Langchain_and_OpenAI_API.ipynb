{
  "nbformat": 4,
  "nbformat_minor": 0,
  "metadata": {
    "colab": {
      "provenance": []
    },
    "kernelspec": {
      "name": "python3",
      "display_name": "Python 3"
    },
    "language_info": {
      "name": "python"
    }
  },
  "cells": [
    {
      "cell_type": "markdown",
      "source": [
        "## Install libraries"
      ],
      "metadata": {
        "id": "mdAebLTSr_oW"
      }
    },
    {
      "cell_type": "code",
      "execution_count": null,
      "metadata": {
        "id": "-uwml7Xos0XA"
      },
      "outputs": [],
      "source": [
        "!pip install langchain transformers openai"
      ]
    },
    {
      "cell_type": "markdown",
      "source": [
        "## Define your openai key\n",
        "Generate an OpenAI [API key here](https://platform.openai.com/account/api-keys)."
      ],
      "metadata": {
        "id": "BBkxNwuIsGmY"
      }
    },
    {
      "cell_type": "code",
      "source": [
        "import os\n",
        "os.environ['OPENAI_API_KEY'] ='<YOUR_API_KEY>'  # Replace with your own key"
      ],
      "metadata": {
        "id": "xfU5lSHNuXr0"
      },
      "execution_count": 11,
      "outputs": []
    },
    {
      "cell_type": "markdown",
      "source": [
        "## Define prompt templates for each chain, and the chains themselves"
      ],
      "metadata": {
        "id": "4QVRYjD6sX3B"
      }
    },
    {
      "cell_type": "code",
      "source": [
        "from langchain.llms import OpenAI\n",
        "from langchain.chains import SequentialChain, LLMChain\n",
        "from langchain.prompts import PromptTemplate  # Ensure correct import path based on your langchain installation\n",
        "from langchain.chat_models import ChatOpenAI\n",
        "\n",
        "\n",
        "# Define the LLM to use\n",
        "llm = ChatOpenAI(temperature=0, model=\"gpt-3.5-turbo-0613\", max_tokens=100)\n",
        "\n",
        "\n",
        "\n",
        "# Define the chain for summarizing text\n",
        "summarize_prompt_template = PromptTemplate(\n",
        "    input_variables=[\"text\"],\n",
        "    template=\"Summarize the following text in two sentences: {text}\"\n",
        ")\n",
        "summarize_chain = LLMChain(\n",
        "    llm=llm,\n",
        "    prompt=summarize_prompt_template,\n",
        "    output_key=\"summary\"  # Define a unique output key for the summary\n",
        ")\n",
        "\n",
        "# Define the chain for generating questions\n",
        "generate_questions_prompt_template = PromptTemplate(\n",
        "    input_variables=[\"summary\"],\n",
        "    template=\"Generate questions based on this summary: {summary}\"\n",
        ")\n",
        "generate_questions_chain = LLMChain(\n",
        "    llm=llm,\n",
        "    prompt=generate_questions_prompt_template,\n",
        "    output_key=\"questions\"  # Define a unique output key for the questions\n",
        ")\n",
        "\n",
        "# Define the chain for answering questions\n",
        "answer_questions_prompt_template = PromptTemplate(\n",
        "    input_variables=[\"questions\", \"text\"],\n",
        "    template=\"Answer these questions: {questions} Based on the text: {text}\"\n",
        ")\n",
        "answer_questions_chain = LLMChain(\n",
        "    llm=llm,\n",
        "    prompt=answer_questions_prompt_template,\n",
        "    output_key=\"answers\"  # Define a unique output key for the answers\n",
        ")"
      ],
      "metadata": {
        "id": "j6X7Rob3s1i_"
      },
      "execution_count": 22,
      "outputs": []
    },
    {
      "cell_type": "markdown",
      "source": [
        "##  Combine the tasks into a sequential chain"
      ],
      "metadata": {
        "id": "SiETwk0TsnWJ"
      }
    },
    {
      "cell_type": "code",
      "source": [
        "sequential_tasks = SequentialChain(\n",
        "    chains=[summarize_chain, generate_questions_chain, answer_questions_chain],\n",
        "    input_variables=[\"text\"]  # Specify the initial input variables here\n",
        ")"
      ],
      "metadata": {
        "id": "EJfcEo94s4G0"
      },
      "execution_count": 26,
      "outputs": []
    },
    {
      "cell_type": "markdown",
      "source": [
        "## Run the pipeline over an example"
      ],
      "metadata": {
        "id": "O1bHXZ73suhk"
      }
    },
    {
      "cell_type": "code",
      "source": [
        "# Example text\n",
        "initial_text  = \"\"\"\n",
        "The history of artificial intelligence (AI) began in antiquity, with myths, stories, and rumors of artificial beings endowed with intelligence or consciousness by master craftsmen. The field of AI research was born at a workshop at Dartmouth College in 1956. Attendees Allen Newell, Herbert A. Simon, John McCarthy, Marvin Minsky, and Arthur Samuel became the founders and leaders of AI research. They and their students produced programs that the press described as astonishing: computers were learning checkers strategies, solving word problems in algebra, proving logical theorems, and speaking English. By the 1980s, AI research had developed methods for dealing with uncertain or incomplete information, employing concepts from probability and economics.\n",
        "\"\"\"\n",
        "# Run the agent\n",
        "results = sequential_tasks.run({\"text\": initial_text})\n"
      ],
      "metadata": {
        "id": "Ioq9b6pKs5OZ"
      },
      "execution_count": 27,
      "outputs": []
    },
    {
      "cell_type": "code",
      "source": [
        "print(results)"
      ],
      "metadata": {
        "colab": {
          "base_uri": "https://localhost:8080/"
        },
        "id": "0naxG4Z4p7YT",
        "outputId": "35373033-ecce-4c88-a467-6de64334e49a"
      },
      "execution_count": 29,
      "outputs": [
        {
          "output_type": "stream",
          "name": "stdout",
          "text": [
            "1. The history of AI goes back to antiquity, with myths and stories of artificial beings.\n",
            "2. Some ancient stories or examples of artificial beings include the golems of Jewish folklore and the automata of ancient Greece and China.\n",
            "3. The field of AI research was officially established at a workshop at Dartmouth College in 1956.\n",
            "4. In the 1980s, significant progress was made in AI, including the development of methods for dealing with uncertain or incomplete information.\n",
            "5.\n"
          ]
        }
      ]
    },
    {
      "cell_type": "markdown",
      "source": [
        "## To see intermediate outputs:\n"
      ],
      "metadata": {
        "id": "dzTzpG5fp-tb"
      }
    },
    {
      "cell_type": "code",
      "source": [
        "summary_result = summarize_chain.run({\"text\": initial_text})\n",
        "print(\"Summary Result:\", summary_result)\n",
        "\n",
        "# 2. Generate questions based on the summary\n",
        "questions_result = generate_questions_chain.run({\"summary\": summary_result})\n",
        "print(\"Questions Generated:\", questions_result)\n",
        "\n",
        "# 3. Answer the generated questions based on the original text\n",
        "answers_result = answer_questions_chain.run({\"questions\": questions_result, \"text\": initial_text})\n",
        "print(\"Answers to Questions:\", answers_result)"
      ],
      "metadata": {
        "colab": {
          "base_uri": "https://localhost:8080/"
        },
        "id": "0y5YA96OoAar",
        "outputId": "33343432-d592-4f64-c6f2-3eb5b1b6a6b7"
      },
      "execution_count": 25,
      "outputs": [
        {
          "output_type": "stream",
          "name": "stdout",
          "text": [
            "Summary Result: The history of AI dates back to ancient times, with stories of artificial beings. The field of AI research was officially established in 1956 at Dartmouth College, and by the 1980s, significant progress had been made in dealing with uncertain information using concepts from probability and economics.\n",
            "Questions Generated: 1. How far back does the history of AI go?\n",
            "2. What were some ancient stories or examples of artificial beings?\n",
            "3. When and where was the field of AI research officially established?\n",
            "4. What significant progress was made in the 1980s in the field of AI?\n",
            "5. How did concepts from probability and economics contribute to dealing with uncertain information in AI research?\n",
            "6. Can you provide examples of specific advancements or breakthroughs in AI during the 1980s?\n",
            "7.\n",
            "Answers to Questions: 1. The history of AI goes back to antiquity, with myths and stories of artificial beings.\n",
            "2. Some ancient stories or examples of artificial beings include the golems of Jewish folklore and the automata of ancient Greece and China.\n",
            "3. The field of AI research was officially established at a workshop at Dartmouth College in 1956.\n",
            "4. In the 1980s, significant progress was made in AI, including the development of methods for dealing with uncertain or incomplete information.\n",
            "5.\n"
          ]
        }
      ]
    }
  ]
}